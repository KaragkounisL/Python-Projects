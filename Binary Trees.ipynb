{
 "cells": [
  {
   "cell_type": "markdown",
   "id": "5ed0840e",
   "metadata": {},
   "source": [
    "# Binary Trees"
   ]
  },
  {
   "cell_type": "markdown",
   "id": "911c231c",
   "metadata": {},
   "source": [
    "## Construction"
   ]
  },
  {
   "cell_type": "markdown",
   "id": "351479d4",
   "metadata": {},
   "source": [
    "### Binary Tree node constructor"
   ]
  },
  {
   "cell_type": "code",
   "execution_count": 6,
   "id": "0c9d196c",
   "metadata": {},
   "outputs": [],
   "source": [
    "class Node:\n",
    "    def __init__(self, value):\n",
    "        self.value = value\n",
    "        self.left = None\n",
    "        self.right = None"
   ]
  },
  {
   "cell_type": "markdown",
   "id": "dd2c3364",
   "metadata": {},
   "source": [
    "### Initializing Binary Tree nodes and connections"
   ]
  },
  {
   "cell_type": "code",
   "execution_count": 17,
   "id": "bf7c2c30",
   "metadata": {},
   "outputs": [],
   "source": [
    "a = Node(\"a\")\n",
    "b = Node(\"b\")\n",
    "c = Node(\"c\")\n",
    "d = Node(\"d\")\n",
    "e = Node(\"e\")\n",
    "f = Node(\"f\")\n",
    "g = Node(\"g\")\n",
    "\n",
    "a.left = b\n",
    "a.right = c\n",
    "b.left = d\n",
    "b.right = e\n",
    "c.right =  f"
   ]
  },
  {
   "cell_type": "markdown",
   "id": "cca5c8c0",
   "metadata": {},
   "source": [
    "## Searching"
   ]
  },
  {
   "cell_type": "markdown",
   "id": "d42ae79a",
   "metadata": {},
   "source": [
    "### Depth First search -- Stack System Last In / First Out (LIFO)\n",
    "n number of nodes  -> Time Complexity O(n) - Space Complexity O(n)"
   ]
  },
  {
   "cell_type": "code",
   "execution_count": 8,
   "id": "6e3b4c39",
   "metadata": {},
   "outputs": [],
   "source": [
    "def depth_first(root):\n",
    "    if root == None: return []\n",
    "    stack = [root]\n",
    "    result = []\n",
    "    while len(stack)>0:\n",
    "       current = stack.pop()\n",
    "       result.append(current)\n",
    "       if (current.right): stack.append(current.right)\n",
    "       if (current.left):  stack.append(current.left)\n",
    "    return result   "
   ]
  },
  {
   "cell_type": "code",
   "execution_count": 10,
   "id": "bccb8802",
   "metadata": {},
   "outputs": [
    {
     "name": "stdout",
     "output_type": "stream",
     "text": [
      "a b d e c f "
     ]
    }
   ],
   "source": [
    "for x in depth_first(a): print (x.value, end = \" \")"
   ]
  },
  {
   "cell_type": "markdown",
   "id": "6aa93df9",
   "metadata": {},
   "source": [
    "### Depth First search with recursion"
   ]
  },
  {
   "cell_type": "code",
   "execution_count": 11,
   "id": "f4a0d082",
   "metadata": {},
   "outputs": [],
   "source": [
    "def depth_first_r(root):  \n",
    "    if root == None: return []\n",
    "    left_values = depth_first_r(root.left)\n",
    "    right_values = depth_first_r(root.right)\n",
    "    children = left_values + right_values\n",
    "    children.insert(0,root)\n",
    "    return children"
   ]
  },
  {
   "cell_type": "code",
   "execution_count": 12,
   "id": "6d8f1fc9",
   "metadata": {},
   "outputs": [
    {
     "name": "stdout",
     "output_type": "stream",
     "text": [
      "a b d e c f "
     ]
    }
   ],
   "source": [
    "for x in depth_first_r(a): print (x.value, end =\" \")"
   ]
  },
  {
   "cell_type": "markdown",
   "id": "ad0ccf89",
   "metadata": {},
   "source": [
    "### Breadth First search -- Queue System First In / First Out (FIFO)\n",
    "n number of nodes  -> Time Complexity O(n) - Space Complexity O(n)"
   ]
  },
  {
   "cell_type": "code",
   "execution_count": 13,
   "id": "bc79a1b8",
   "metadata": {},
   "outputs": [],
   "source": [
    "def breadth_first(root):\n",
    "    if root == None: return []\n",
    "    values = []\n",
    "    queue = [root]\n",
    "    while len(queue) > 0 :\n",
    "        current = queue.pop(0)\n",
    "        values.append(current)\n",
    "        if current.left != None: queue.append(current.left)\n",
    "        if current.right != None: queue.append(current.right)\n",
    "    return values"
   ]
  },
  {
   "cell_type": "code",
   "execution_count": 14,
   "id": "e4b8786c",
   "metadata": {},
   "outputs": [
    {
     "name": "stdout",
     "output_type": "stream",
     "text": [
      "a b c d e f "
     ]
    }
   ],
   "source": [
    "for x in breadth_first(a): print (x.value, end = \" \")"
   ]
  },
  {
   "cell_type": "code",
   "execution_count": 15,
   "id": "faabc650",
   "metadata": {},
   "outputs": [],
   "source": [
    "#Solving Breadth First recursively doesnt make much sense since recursion uses stacks,\n",
    "#while we are using a queue system. Therefore its hard to get the correct ordering"
   ]
  },
  {
   "cell_type": "markdown",
   "id": "78eb1534",
   "metadata": {},
   "source": [
    "## Tree Includes"
   ]
  },
  {
   "cell_type": "markdown",
   "id": "445edaff",
   "metadata": {},
   "source": [
    "### Breadth First"
   ]
  },
  {
   "cell_type": "code",
   "execution_count": 19,
   "id": "06376b81",
   "metadata": {},
   "outputs": [],
   "source": [
    "def breadth_first_target(root, target):\n",
    "    if root == None: return False\n",
    "    queue = [root]\n",
    "    while len(queue)>0:\n",
    "        current = queue.pop(0)\n",
    "        if current == target: return True\n",
    "        if current.left != None: queue.append(current.left)\n",
    "        if current.right != None: queue.append(current.right)\n",
    "    return False "
   ]
  },
  {
   "cell_type": "code",
   "execution_count": 21,
   "id": "973bdb8b",
   "metadata": {},
   "outputs": [
    {
     "name": "stdout",
     "output_type": "stream",
     "text": [
      "True\n",
      "False\n"
     ]
    }
   ],
   "source": [
    "print(breadth_first_target(a,f))\n",
    "print(breadth_first_target(a,g))"
   ]
  },
  {
   "cell_type": "markdown",
   "id": "bc5894d5",
   "metadata": {},
   "source": [
    "### Recursive Depth First"
   ]
  },
  {
   "cell_type": "code",
   "execution_count": 3,
   "id": "4fca1115",
   "metadata": {},
   "outputs": [],
   "source": [
    "def depth_first_r_target(root,target):  \n",
    "    if root == None: return False\n",
    "    if root == target: return True\n",
    "    return depth_first_r_target(root.left,target) or depth_first_r_target(root.right,target)"
   ]
  },
  {
   "cell_type": "code",
   "execution_count": 22,
   "id": "cd2ff661",
   "metadata": {},
   "outputs": [
    {
     "name": "stdout",
     "output_type": "stream",
     "text": [
      "True\n",
      "False\n"
     ]
    }
   ],
   "source": [
    "print(depth_first_r_target(a,f))\n",
    "print(depth_first_r_target(a,g))"
   ]
  },
  {
   "cell_type": "markdown",
   "id": "bd0c5938",
   "metadata": {},
   "source": [
    "## Tree Sum"
   ]
  },
  {
   "cell_type": "markdown",
   "id": "8725ea6a",
   "metadata": {},
   "source": [
    "### Recursive Depth First Solution"
   ]
  },
  {
   "cell_type": "code",
   "execution_count": 23,
   "id": "e3ea5365",
   "metadata": {},
   "outputs": [],
   "source": [
    "def treeSum(root):\n",
    "    if root == None: return 0\n",
    "    sum = 0\n",
    "    queue = [root]\n",
    "    while len(queue) > 0:\n",
    "        current = queue.pop(0)\n",
    "        sum +=current.value\n",
    "        if current.left: queue.append(current.left)\n",
    "        if current.right: queue.append(current.right)\n",
    "    return sum  "
   ]
  },
  {
   "cell_type": "code",
   "execution_count": 32,
   "id": "f8bab9c5",
   "metadata": {},
   "outputs": [],
   "source": [
    "a1 = Node(10)\n",
    "b1 = Node(2)\n",
    "c1 = Node(31)\n",
    "d1 = Node(4)\n",
    "e1 = Node(54)\n",
    "f1 = Node(16)\n",
    "\n",
    "a1.left = b1\n",
    "a1.right = c1\n",
    "b1.left = d1\n",
    "b1.right = e1\n",
    "c1.right =  f1"
   ]
  },
  {
   "cell_type": "markdown",
   "id": "ce292966",
   "metadata": {},
   "source": [
    "          10\n",
    "        /    \\\n",
    "      2       31\n",
    "     / \\        \\\n",
    "    4   54       16"
   ]
  },
  {
   "cell_type": "code",
   "execution_count": 42,
   "id": "756c7976",
   "metadata": {},
   "outputs": [
    {
     "name": "stdout",
     "output_type": "stream",
     "text": [
      "117\n"
     ]
    }
   ],
   "source": [
    "print(treeSum(a1))"
   ]
  },
  {
   "cell_type": "code",
   "execution_count": 26,
   "id": "a8708f79",
   "metadata": {},
   "outputs": [],
   "source": [
    "#The Breadth First Solution is entirely similar to the actual search code while adding the values"
   ]
  },
  {
   "cell_type": "markdown",
   "id": "c54798d6",
   "metadata": {},
   "source": [
    "## Tree Min"
   ]
  },
  {
   "cell_type": "markdown",
   "id": "a7faf4f5",
   "metadata": {},
   "source": [
    "### Depth First Solution"
   ]
  },
  {
   "cell_type": "code",
   "execution_count": 36,
   "id": "cf90ef6a",
   "metadata": {},
   "outputs": [],
   "source": [
    "def treeMin(root):\n",
    "    if root == None: return float('inf')\n",
    "    min = root.value\n",
    "    queue = [root]\n",
    "    while len(queue)>0:\n",
    "        current = queue.pop(0)\n",
    "        if current.value < min: min = current.value\n",
    "        if current.left: queue.append(current.left)\n",
    "        if current.right: queue.append(current.right)\n",
    "    return min"
   ]
  },
  {
   "cell_type": "code",
   "execution_count": 37,
   "id": "acf0936a",
   "metadata": {},
   "outputs": [
    {
     "name": "stdout",
     "output_type": "stream",
     "text": [
      "2\n"
     ]
    }
   ],
   "source": [
    "print(treeMin(a1))"
   ]
  },
  {
   "cell_type": "markdown",
   "id": "34c55563",
   "metadata": {},
   "source": [
    "### Recursive Solution"
   ]
  },
  {
   "cell_type": "code",
   "execution_count": 38,
   "id": "46524d4b",
   "metadata": {},
   "outputs": [],
   "source": [
    "def treeMin_r(root):\n",
    "    if root == None: return float('inf')\n",
    "    leftMin = treeMin_r(root.left)\n",
    "    rightMin = treeMin_r(root.right)\n",
    "    return min(root.value, leftMin ,rightMin)"
   ]
  },
  {
   "cell_type": "code",
   "execution_count": 39,
   "id": "45dce5d9",
   "metadata": {},
   "outputs": [
    {
     "name": "stdout",
     "output_type": "stream",
     "text": [
      "2\n"
     ]
    }
   ],
   "source": [
    "print(treeMin_r(a1))"
   ]
  },
  {
   "cell_type": "markdown",
   "id": "71b63f47",
   "metadata": {},
   "source": [
    "## Max Root to Leaf Path Sum"
   ]
  },
  {
   "cell_type": "code",
   "execution_count": 40,
   "id": "330ea3ce",
   "metadata": {},
   "outputs": [],
   "source": [
    "def maxPathSum(root):\n",
    "    if root == None: return float('-inf')\n",
    "    if root.left == None and root.right == None: return root.value\n",
    "    max_child = max(maxPathSum(root.left), maxPathSum(root.right))\n",
    "    return root.value + max_child"
   ]
  },
  {
   "cell_type": "code",
   "execution_count": 41,
   "id": "122a8e12",
   "metadata": {},
   "outputs": [
    {
     "name": "stdout",
     "output_type": "stream",
     "text": [
      "66\n"
     ]
    }
   ],
   "source": [
    "print(maxPathSum(a1))"
   ]
  },
  {
   "cell_type": "markdown",
   "id": "31cbdacc",
   "metadata": {},
   "source": [
    "## Invert Binary Tree"
   ]
  },
  {
   "cell_type": "code",
   "execution_count": 43,
   "id": "b4faabac",
   "metadata": {},
   "outputs": [],
   "source": [
    "def invertTree(root):\n",
    "    if root == None: return root\n",
    "    left = invertTree(root.left)\n",
    "    right = invertTree(root.right)\n",
    "    root.right = left\n",
    "    root.left = right\n",
    "    return root"
   ]
  },
  {
   "cell_type": "code",
   "execution_count": 44,
   "id": "43d99d65",
   "metadata": {},
   "outputs": [],
   "source": [
    "a2 = Node(1)\n",
    "b2 = Node(2)\n",
    "c2 = Node(3)\n",
    "d2 = Node(4)\n",
    "e2 = Node(5)\n",
    "f2 = Node(6)\n",
    "\n",
    "a2.left = b2\n",
    "a2.right = c2\n",
    "b2.left = d2\n",
    "b2.right = e2\n",
    "c2.right =  f2"
   ]
  },
  {
   "cell_type": "markdown",
   "id": "8179a0a5",
   "metadata": {},
   "source": [
    "          1\n",
    "        /    \\\n",
    "      2       3\n",
    "     / \\        \\\n",
    "    4   5        6"
   ]
  },
  {
   "cell_type": "code",
   "execution_count": 45,
   "id": "df103a79",
   "metadata": {},
   "outputs": [
    {
     "name": "stdout",
     "output_type": "stream",
     "text": [
      "1 2 3 4 5 6 "
     ]
    }
   ],
   "source": [
    "#Before Inverting\n",
    "for x in breadth_first(a2): print (x.value, end =\" \")"
   ]
  },
  {
   "cell_type": "code",
   "execution_count": 51,
   "id": "c40eeea3",
   "metadata": {},
   "outputs": [],
   "source": [
    "#Inverting\n",
    "invertTree(a2);  #; at the end to avoid output on notebook"
   ]
  },
  {
   "cell_type": "code",
   "execution_count": 52,
   "id": "5a412e5e",
   "metadata": {},
   "outputs": [
    {
     "name": "stdout",
     "output_type": "stream",
     "text": [
      "1 3 2 6 5 4 "
     ]
    }
   ],
   "source": [
    "#After Inverting\n",
    "for x in breadth_first(a2): print (x.value, end =\" \")"
   ]
  },
  {
   "cell_type": "markdown",
   "id": "1c622dc3",
   "metadata": {},
   "source": [
    "          1\n",
    "        /    \\\n",
    "      3       2\n",
    "     /       /  \\\n",
    "    6       5    4"
   ]
  },
  {
   "cell_type": "code",
   "execution_count": null,
   "id": "0426b0f7",
   "metadata": {},
   "outputs": [],
   "source": []
  }
 ],
 "metadata": {
  "kernelspec": {
   "display_name": "Python 3",
   "language": "python",
   "name": "python3"
  },
  "language_info": {
   "codemirror_mode": {
    "name": "ipython",
    "version": 3
   },
   "file_extension": ".py",
   "mimetype": "text/x-python",
   "name": "python",
   "nbconvert_exporter": "python",
   "pygments_lexer": "ipython3",
   "version": "3.8.8"
  }
 },
 "nbformat": 4,
 "nbformat_minor": 5
}
